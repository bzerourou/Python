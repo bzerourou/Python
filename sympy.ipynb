{
 "cells": [
  {
   "cell_type": "markdown",
   "id": "41a85b11",
   "metadata": {},
   "source": [
    "# Sympy\n",
    "Sympy est une autre bibliothèque Python pour le calcul formel ou calcul symbolique dans le monde de l'informatique, contrairement à Numpy qui fait des calculs numérique, Sympy fait des calculs symboliques. "
   ]
  },
  {
   "cell_type": "markdown",
   "id": "101cd142",
   "metadata": {},
   "source": [
    "Il existe plusiers façon d'importer la bibliothèque **Sympy**,"
   ]
  },
  {
   "cell_type": "code",
   "execution_count": 7,
   "id": "f8022fde",
   "metadata": {},
   "outputs": [],
   "source": [
    "import sympy as smp\n"
   ]
  },
  {
   "cell_type": "markdown",
   "id": "9b25ff4b",
   "metadata": {},
   "source": [
    "Ou bien,"
   ]
  },
  {
   "cell_type": "code",
   "execution_count": 18,
   "id": "a4120f38",
   "metadata": {},
   "outputs": [],
   "source": [
    "from sympy import Symbol, Function, Integral, pprint, exp, sin, solve"
   ]
  },
  {
   "cell_type": "markdown",
   "id": "b6249329",
   "metadata": {},
   "source": [
    "**Note** : la différence entre les deux est que la première importation permet d'importer toute la bibliothèque sous un gros objet *smp* qui contient des membres ou fonctions permetant la contruction et le calcul symbolique par des appel de fonctions qui renvoient des objets, la deuxième permet d'importer seulement des classes avec lesquelles on instancie des objets,\n"
   ]
  },
  {
   "cell_type": "markdown",
   "id": "107d9401",
   "metadata": {},
   "source": [
    "#### Première utilisation\n",
    "Dans le cas de la deuxième façon d'importer la bibliothèque,"
   ]
  },
  {
   "cell_type": "code",
   "execution_count": 9,
   "id": "adbac0e8",
   "metadata": {
    "scrolled": true
   },
   "outputs": [
    {
     "data": {
      "text/latex": [
       "$\\displaystyle \\left(a + b\\right)^{3}$"
      ],
      "text/plain": [
       "(a + b)**3"
      ]
     },
     "execution_count": 9,
     "metadata": {},
     "output_type": "execute_result"
    }
   ],
   "source": [
    "a = Symbol(\"a\")\n",
    "b = Symbol(\"b\")\n",
    "\n",
    "e= (a+b)**3\n",
    "e"
   ]
  },
  {
   "cell_type": "markdown",
   "id": "3924cab1",
   "metadata": {},
   "source": [
    "#### Distribution "
   ]
  },
  {
   "cell_type": "code",
   "execution_count": 10,
   "id": "c7850a20",
   "metadata": {
    "scrolled": false
   },
   "outputs": [
    {
     "data": {
      "text/latex": [
       "$\\displaystyle a^{3} + 3 a^{2} b + 3 a b^{2} + b^{3}$"
      ],
      "text/plain": [
       "a**3 + 3*a**2*b + 3*a*b**2 + b**3"
      ]
     },
     "execution_count": 10,
     "metadata": {},
     "output_type": "execute_result"
    }
   ],
   "source": [
    "e.expand(e)"
   ]
  },
  {
   "cell_type": "code",
   "execution_count": 13,
   "id": "923ab579",
   "metadata": {},
   "outputs": [
    {
     "data": {
      "text/latex": [
       "$\\displaystyle \\sin{\\left(x \\right)}$"
      ],
      "text/plain": [
       "sin(x)"
      ]
     },
     "execution_count": 13,
     "metadata": {},
     "output_type": "execute_result"
    }
   ],
   "source": [
    "x= Symbol(\"x\")\n",
    "sin(x)"
   ]
  },
  {
   "cell_type": "code",
   "execution_count": 15,
   "id": "dc5bd33a",
   "metadata": {},
   "outputs": [
    {
     "data": {
      "text/latex": [
       "$\\displaystyle x^{2} + 4 x + 3$"
      ],
      "text/plain": [
       "x**2 + 4*x + 3"
      ]
     },
     "execution_count": 15,
     "metadata": {},
     "output_type": "execute_result"
    }
   ],
   "source": [
    "y = x**2 + 4*x +3\n",
    "y"
   ]
  },
  {
   "cell_type": "code",
   "execution_count": 21,
   "id": "c4bcc8bc",
   "metadata": {},
   "outputs": [
    {
     "data": {
      "text/latex": [
       "$\\displaystyle \\left(x^{2} + 4 x + 3\\right)^{2}$"
      ],
      "text/plain": [
       "(x**2 + 4*x + 3)**2"
      ]
     },
     "execution_count": 21,
     "metadata": {},
     "output_type": "execute_result"
    }
   ],
   "source": [
    "f = y**2\n",
    "z"
   ]
  },
  {
   "cell_type": "markdown",
   "id": "eb647d42",
   "metadata": {},
   "source": [
    "#### Factorisation"
   ]
  },
  {
   "cell_type": "code",
   "execution_count": 22,
   "id": "55e0a38f",
   "metadata": {},
   "outputs": [
    {
     "data": {
      "text/latex": [
       "$\\displaystyle \\left(x + 1\\right)^{2} \\left(x + 3\\right)^{2}$"
      ],
      "text/plain": [
       "(x + 1)**2*(x + 3)**2"
      ]
     },
     "execution_count": 22,
     "metadata": {},
     "output_type": "execute_result"
    }
   ],
   "source": [
    "f.factor()"
   ]
  },
  {
   "cell_type": "markdown",
   "id": "18795e8c",
   "metadata": {},
   "source": [
    "#### Résolution \n",
    "la fonction `solve(f,x)` résoue la fonction *f(x)=0*,"
   ]
  },
  {
   "cell_type": "code",
   "execution_count": 23,
   "id": "96a5e037",
   "metadata": {
    "scrolled": true
   },
   "outputs": [
    {
     "data": {
      "text/plain": [
       "[-3, -1]"
      ]
     },
     "execution_count": 23,
     "metadata": {},
     "output_type": "execute_result"
    }
   ],
   "source": [
    "solve(f,x)"
   ]
  },
  {
   "cell_type": "markdown",
   "id": "f6eb2ba0",
   "metadata": {},
   "source": [
    "résoudre la fonction *sin(x)=0*"
   ]
  },
  {
   "cell_type": "code",
   "execution_count": 24,
   "id": "f453bf89",
   "metadata": {},
   "outputs": [
    {
     "data": {
      "text/plain": [
       "[0, pi]"
      ]
     },
     "execution_count": 24,
     "metadata": {},
     "output_type": "execute_result"
    }
   ],
   "source": [
    "solve(sin(x),x)"
   ]
  },
  {
   "cell_type": "markdown",
   "id": "bb1233fa",
   "metadata": {},
   "source": [
    "Une autre équation *f(x)=x²+1=0* "
   ]
  },
  {
   "cell_type": "code",
   "execution_count": 25,
   "id": "62df28dd",
   "metadata": {
    "scrolled": true
   },
   "outputs": [
    {
     "data": {
      "text/plain": [
       "[-I, I]"
      ]
     },
     "execution_count": 25,
     "metadata": {},
     "output_type": "execute_result"
    }
   ],
   "source": [
    "solve(x**2+1,x)"
   ]
  },
  {
   "cell_type": "markdown",
   "id": "09db2056",
   "metadata": {},
   "source": [
    "Définir un symbole positif,"
   ]
  },
  {
   "cell_type": "code",
   "execution_count": 26,
   "id": "a8714a82",
   "metadata": {},
   "outputs": [
    {
     "data": {
      "text/plain": [
       "[]"
      ]
     },
     "execution_count": 26,
     "metadata": {},
     "output_type": "execute_result"
    }
   ],
   "source": [
    "x = Symbol(\"x\", real=True, positive=True)\n",
    "solve(x**2+1,x)"
   ]
  },
  {
   "cell_type": "markdown",
   "id": "a40ff81a",
   "metadata": {},
   "source": [
    "#### exemple d'integration"
   ]
  },
  {
   "cell_type": "code",
   "execution_count": 29,
   "id": "8d64c7d2",
   "metadata": {
    "scrolled": true
   },
   "outputs": [
    {
     "name": "stdout",
     "output_type": "stream",
     "text": [
      " ⎛ x⎞\n",
      " ⎝ℯ ⎠\n",
      "x    \n",
      "⌠        \n",
      "⎮ f(x) dx\n",
      "⌡        \n"
     ]
    }
   ],
   "source": [
    "x = Symbol(\"x\")\n",
    "f = Function(\"f\")\n",
    "\n",
    "pprint(x**exp(x))\n",
    "\n",
    "pprint(Integral(f(x),x), use_unicode=True)"
   ]
  },
  {
   "cell_type": "markdown",
   "id": "a7bdbee4",
   "metadata": {},
   "source": [
    "Dans le cas de la première façon d'importation, "
   ]
  },
  {
   "cell_type": "code",
   "execution_count": 30,
   "id": "89934071",
   "metadata": {},
   "outputs": [
    {
     "name": "stdout",
     "output_type": "stream",
     "text": [
      " ⎛ x⎞\n",
      " ⎝ℯ ⎠\n",
      "x    \n",
      "⌠         \n",
      "⎮  ⎛ x⎞   \n",
      "⎮  ⎝ℯ ⎠   \n",
      "⎮ x     dx\n",
      "⌡         \n"
     ]
    }
   ],
   "source": [
    "x = smp.symbols(\"x\")\n",
    "f = x**smp.exp(x) \n",
    "smp.pprint(f)\n",
    "   \n",
    "smp.pprint(smp.integrate(f, x), use_unicode=True)"
   ]
  },
  {
   "cell_type": "markdown",
   "id": "35759978",
   "metadata": {},
   "source": [
    "On peut définir plusieurs symboles à la fois, "
   ]
  },
  {
   "cell_type": "code",
   "execution_count": 33,
   "id": "964c47ea",
   "metadata": {},
   "outputs": [],
   "source": [
    "l, m, n = smp.symbols('l m n')"
   ]
  },
  {
   "cell_type": "code",
   "execution_count": 35,
   "id": "b475b108",
   "metadata": {},
   "outputs": [
    {
     "data": {
      "text/latex": [
       "$\\displaystyle l^{2} + m \\sin{\\left(n \\right)}$"
      ],
      "text/plain": [
       "l**2 + m*sin(n)"
      ]
     },
     "execution_count": 35,
     "metadata": {},
     "output_type": "execute_result"
    }
   ],
   "source": [
    "F = l**2+smp.sin(n)*m\n",
    "F"
   ]
  },
  {
   "cell_type": "code",
   "execution_count": 38,
   "id": "9518df11",
   "metadata": {},
   "outputs": [
    {
     "data": {
      "text/plain": [
       "[-sqrt(-m*sin(n)), sqrt(-m*sin(n))]"
      ]
     },
     "execution_count": 38,
     "metadata": {},
     "output_type": "execute_result"
    }
   ],
   "source": [
    "l_sol= smp.solve(F,l)\n",
    "l_sol"
   ]
  },
  {
   "cell_type": "code",
   "execution_count": 40,
   "id": "0b58b8cc",
   "metadata": {},
   "outputs": [
    {
     "data": {
      "text/plain": [
       "[-l**2/sin(n)]"
      ]
     },
     "execution_count": 40,
     "metadata": {},
     "output_type": "execute_result"
    }
   ],
   "source": [
    "m_sol = smp.solve(F,m)\n",
    "m_sol"
   ]
  },
  {
   "cell_type": "code",
   "execution_count": 41,
   "id": "ea0d936f",
   "metadata": {},
   "outputs": [
    {
     "data": {
      "text/plain": [
       "[asin(l**2/m) + pi, -asin(l**2/m)]"
      ]
     },
     "execution_count": 41,
     "metadata": {},
     "output_type": "execute_result"
    }
   ],
   "source": [
    "n_sol = smp.solve(F,n)\n",
    "n_sol"
   ]
  },
  {
   "cell_type": "markdown",
   "id": "166f6954",
   "metadata": {},
   "source": [
    "Si on veut évaluer numériquement la fonction pour pouvoir la tracer on utilise la fonction `lambdify()`"
   ]
  },
  {
   "cell_type": "code",
   "execution_count": 43,
   "id": "53966f4d",
   "metadata": {},
   "outputs": [
    {
     "data": {
      "text/latex": [
       "$\\displaystyle \\operatorname{asin}{\\left(\\frac{l^{2}}{m} \\right)} + \\pi$"
      ],
      "text/plain": [
       "asin(l**2/m) + pi"
      ]
     },
     "execution_count": 43,
     "metadata": {},
     "output_type": "execute_result"
    }
   ],
   "source": [
    "func = n_sol[0] \n",
    "func"
   ]
  },
  {
   "cell_type": "code",
   "execution_count": 45,
   "id": "7d1f49c1",
   "metadata": {},
   "outputs": [],
   "source": [
    "import matplotlib.pyplot as plt"
   ]
  },
  {
   "cell_type": "code",
   "execution_count": 81,
   "id": "fc080409",
   "metadata": {},
   "outputs": [
    {
     "data": {
      "text/plain": [
       "3.141642653589814"
      ]
     },
     "execution_count": 81,
     "metadata": {},
     "output_type": "execute_result"
    }
   ],
   "source": [
    "expr_func = smp.lambdify([l,m], func)\n",
    "# évaluer en donnant deux valeurs respectivement pour l et m\n",
    "expr_func(0.01,2)\n"
   ]
  },
  {
   "cell_type": "code",
   "execution_count": 56,
   "id": "dcb78635",
   "metadata": {},
   "outputs": [],
   "source": [
    "import numpy as np"
   ]
  },
  {
   "cell_type": "code",
   "execution_count": 90,
   "id": "3f4638a1",
   "metadata": {},
   "outputs": [
    {
     "data": {
      "image/png": "[encoded data removed]",
      "text/plain": [
       "<Figure size 640x480 with 1 Axes>"
      ]
     },
     "metadata": {},
     "output_type": "display_data"
    }
   ],
   "source": [
    "# on génère un vecteur de 100 éléments \n",
    "l_num = np.linspace(0,1,100)\n",
    "m_num = 1\n",
    "plt.plot(l_num, expr_func(l_num,m_num))\n",
    "m_num = 1.5\n",
    "plt.plot(l_num, expr_func(l_num,m_num))\n",
    "plt.show()"
   ]
  },
  {
   "cell_type": "code",
   "execution_count": 96,
   "id": "fd878696",
   "metadata": {},
   "outputs": [
    {
     "data": {
      "text/latex": [
       "$\\displaystyle l^{2} + m \\sin{\\left(n \\right)}$"
      ],
      "text/plain": [
       "l**2 + m*sin(n)"
      ]
     },
     "execution_count": 96,
     "metadata": {},
     "output_type": "execute_result"
    }
   ],
   "source": [
    "F"
   ]
  },
  {
   "cell_type": "markdown",
   "id": "32dfe6ae",
   "metadata": {},
   "source": [
    "On peut substituer dans une expression multivariables avec la fonction `subs()` qui prend un vecteur, par exemple je veux changer la variable m par cos(n)"
   ]
  },
  {
   "cell_type": "code",
   "execution_count": 97,
   "id": "1475e0f2",
   "metadata": {},
   "outputs": [
    {
     "data": {
      "text/latex": [
       "$\\displaystyle l^{2} + \\sin{\\left(n \\right)} \\cos{\\left(n \\right)}$"
      ],
      "text/plain": [
       "l**2 + sin(n)*cos(n)"
      ]
     },
     "execution_count": 97,
     "metadata": {},
     "output_type": "execute_result"
    }
   ],
   "source": [
    "F.subs([(m, smp.cos(n))])"
   ]
  },
  {
   "cell_type": "markdown",
   "id": "3037ccff",
   "metadata": {},
   "source": [
    "si je veux rajouter une deuxième substitution après la première qui me permettrai de passer la variable n à m, "
   ]
  },
  {
   "cell_type": "code",
   "execution_count": 99,
   "id": "071e279c",
   "metadata": {},
   "outputs": [
    {
     "data": {
      "text/latex": [
       "$\\displaystyle l^{2} + \\sin{\\left(m \\right)} \\cos{\\left(m \\right)}$"
      ],
      "text/plain": [
       "l**2 + sin(m)*cos(m)"
      ]
     },
     "execution_count": 99,
     "metadata": {},
     "output_type": "execute_result"
    }
   ],
   "source": [
    "# On reprend l'expression d'origine\n",
    "F = l**2+smp.sin(n)*m\n",
    "F.subs([(m, smp.cos(n)),(n,m)])"
   ]
  },
  {
   "cell_type": "code",
   "execution_count": null,
   "id": "28d9b1a6",
   "metadata": {},
   "outputs": [],
   "source": []
  }
 ],
 "metadata": {
  "kernelspec": {
   "display_name": "Python 3 (ipykernel)",
   "language": "python",
   "name": "python3"
  },
  "language_info": {
   "codemirror_mode": {
    "name": "ipython",
    "version": 3
   },
   "file_extension": ".py",
   "mimetype": "text/x-python",
   "name": "python",
   "nbconvert_exporter": "python",
   "pygments_lexer": "ipython3",
   "version": "3.7.16"
  }
 },
 "nbformat": 4,
 "nbformat_minor": 5
}
