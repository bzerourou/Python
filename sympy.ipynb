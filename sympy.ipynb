{
 "cells": [
  {
   "cell_type": "markdown",
   "id": "7ffd54a2",
   "metadata": {},
   "source": [
    "# Sympy\n",
    "Sympy est une autre bibliothèque Python pour le calcul formel ou calcul symbolique dans le monde de l'informatique, contrairement à Numpy qui fait des calculs numérique, Sympy fait des calculs symboliques. "
   ]
  },
  {
   "cell_type": "markdown",
   "id": "e675ca23",
   "metadata": {},
   "source": [
    "Il existe plusiers façon d'importer la bibliothèque **Sympy**,"
   ]
  },
  {
   "cell_type": "code",
   "execution_count": 7,
   "id": "f8022fde",
   "metadata": {},
   "outputs": [],
   "source": [
    "import sympy as smp\n"
   ]
  },
  {
   "cell_type": "markdown",
   "id": "4f3f2d7b",
   "metadata": {},
   "source": [
    "Ou bien,"
   ]
  },
  {
   "cell_type": "code",
   "execution_count": 18,
   "id": "612ed1a3",
   "metadata": {},
   "outputs": [],
   "source": [
    "from sympy import Symbol, Function, Integral, pprint, exp, sin, solve"
   ]
  },
  {
   "cell_type": "markdown",
   "id": "3d7b63d5",
   "metadata": {},
   "source": [
    "**Note** : la différence entre les deux est que la première importation permet d'importer toute la bibliothèque sous un gros objet *smp* qui contient des membres ou fonctions permetant la contruction et le calcul symbolique par des appel de fonctions qui renvoient des objets, la deuxième permet d'importer seulement des classes avec lesquelles on instancie des objets,\n"
   ]
  },
  {
   "cell_type": "markdown",
   "id": "5a074bac",
   "metadata": {},
   "source": [
    "#### Première utilisation\n",
    "Dans le cas de la deuxième façon d'importer la bibliothèque,"
   ]
  },
  {
   "cell_type": "code",
   "execution_count": 9,
   "id": "f4a25e05",
   "metadata": {
    "scrolled": true
   },
   "outputs": [
    {
     "data": {
      "text/latex": [
       "$\\displaystyle \\left(a + b\\right)^{3}$"
      ],
      "text/plain": [
       "(a + b)**3"
      ]
     },
     "execution_count": 9,
     "metadata": {},
     "output_type": "execute_result"
    }
   ],
   "source": [
    "a = Symbol(\"a\")\n",
    "b = Symbol(\"b\")\n",
    "\n",
    "e= (a+b)**3\n",
    "e"
   ]
  },
  {
   "cell_type": "markdown",
   "id": "c83b4dea",
   "metadata": {},
   "source": [
    "#### Distribution "
   ]
  },
  {
   "cell_type": "code",
   "execution_count": 10,
   "id": "e1df4425",
   "metadata": {
    "scrolled": false
   },
   "outputs": [
    {
     "data": {
      "text/latex": [
       "$\\displaystyle a^{3} + 3 a^{2} b + 3 a b^{2} + b^{3}$"
      ],
      "text/plain": [
       "a**3 + 3*a**2*b + 3*a*b**2 + b**3"
      ]
     },
     "execution_count": 10,
     "metadata": {},
     "output_type": "execute_result"
    }
   ],
   "source": [
    "e.expand(e)"
   ]
  },
  {
   "cell_type": "code",
   "execution_count": 13,
   "id": "fdcc0e12",
   "metadata": {},
   "outputs": [
    {
     "data": {
      "text/latex": [
       "$\\displaystyle \\sin{\\left(x \\right)}$"
      ],
      "text/plain": [
       "sin(x)"
      ]
     },
     "execution_count": 13,
     "metadata": {},
     "output_type": "execute_result"
    }
   ],
   "source": [
    "x= Symbol(\"x\")\n",
    "sin(x)"
   ]
  },
  {
   "cell_type": "code",
   "execution_count": 15,
   "id": "dcb9ca69",
   "metadata": {},
   "outputs": [
    {
     "data": {
      "text/latex": [
       "$\\displaystyle x^{2} + 4 x + 3$"
      ],
      "text/plain": [
       "x**2 + 4*x + 3"
      ]
     },
     "execution_count": 15,
     "metadata": {},
     "output_type": "execute_result"
    }
   ],
   "source": [
    "y = x**2 + 4*x +3\n",
    "y"
   ]
  },
  {
   "cell_type": "code",
   "execution_count": 21,
   "id": "56f4cfaf",
   "metadata": {},
   "outputs": [
    {
     "data": {
      "text/latex": [
       "$\\displaystyle \\left(x^{2} + 4 x + 3\\right)^{2}$"
      ],
      "text/plain": [
       "(x**2 + 4*x + 3)**2"
      ]
     },
     "execution_count": 21,
     "metadata": {},
     "output_type": "execute_result"
    }
   ],
   "source": [
    "f = y**2\n",
    "z"
   ]
  },
  {
   "cell_type": "markdown",
   "id": "2a336273",
   "metadata": {},
   "source": [
    "#### Factorisation"
   ]
  },
  {
   "cell_type": "code",
   "execution_count": 22,
   "id": "7127e5e6",
   "metadata": {},
   "outputs": [
    {
     "data": {
      "text/latex": [
       "$\\displaystyle \\left(x + 1\\right)^{2} \\left(x + 3\\right)^{2}$"
      ],
      "text/plain": [
       "(x + 1)**2*(x + 3)**2"
      ]
     },
     "execution_count": 22,
     "metadata": {},
     "output_type": "execute_result"
    }
   ],
   "source": [
    "f.factor()"
   ]
  },
  {
   "cell_type": "markdown",
   "id": "c8b9f3de",
   "metadata": {},
   "source": [
    "#### Résolution \n",
    "la fonction `solve(f,x)` résoue la fonction *f(x)=0*,"
   ]
  },
  {
   "cell_type": "code",
   "execution_count": 23,
   "id": "62866428",
   "metadata": {
    "scrolled": true
   },
   "outputs": [
    {
     "data": {
      "text/plain": [
       "[-3, -1]"
      ]
     },
     "execution_count": 23,
     "metadata": {},
     "output_type": "execute_result"
    }
   ],
   "source": [
    "solve(f,x)"
   ]
  },
  {
   "cell_type": "markdown",
   "id": "cebd49ff",
   "metadata": {},
   "source": [
    "résoudre la fonction *sin(x)=0*"
   ]
  },
  {
   "cell_type": "code",
   "execution_count": 24,
   "id": "e902b2cf",
   "metadata": {},
   "outputs": [
    {
     "data": {
      "text/plain": [
       "[0, pi]"
      ]
     },
     "execution_count": 24,
     "metadata": {},
     "output_type": "execute_result"
    }
   ],
   "source": [
    "solve(sin(x),x)"
   ]
  },
  {
   "cell_type": "markdown",
   "id": "f822aad2",
   "metadata": {},
   "source": [
    "Une autre équation *f(x)=x²+1=0* "
   ]
  },
  {
   "cell_type": "code",
   "execution_count": 25,
   "id": "323170cd",
   "metadata": {
    "scrolled": true
   },
   "outputs": [
    {
     "data": {
      "text/plain": [
       "[-I, I]"
      ]
     },
     "execution_count": 25,
     "metadata": {},
     "output_type": "execute_result"
    }
   ],
   "source": [
    "solve(x**2+1,x)"
   ]
  },
  {
   "cell_type": "markdown",
   "id": "d99112cd",
   "metadata": {},
   "source": [
    "Définir un symbole positif,"
   ]
  },
  {
   "cell_type": "code",
   "execution_count": 26,
   "id": "2fc601ec",
   "metadata": {},
   "outputs": [
    {
     "data": {
      "text/plain": [
       "[]"
      ]
     },
     "execution_count": 26,
     "metadata": {},
     "output_type": "execute_result"
    }
   ],
   "source": [
    "x = Symbol(\"x\", real=True, positive=True)\n",
    "solve(x**2+1,x)"
   ]
  },
  {
   "cell_type": "markdown",
   "id": "f2010118",
   "metadata": {},
   "source": [
    "#### exemple d'integration"
   ]
  },
  {
   "cell_type": "code",
   "execution_count": 29,
   "id": "a143dc4f",
   "metadata": {
    "scrolled": true
   },
   "outputs": [
    {
     "name": "stdout",
     "output_type": "stream",
     "text": [
      " ⎛ x⎞\n",
      " ⎝ℯ ⎠\n",
      "x    \n",
      "⌠        \n",
      "⎮ f(x) dx\n",
      "⌡        \n"
     ]
    }
   ],
   "source": [
    "x = Symbol(\"x\")\n",
    "f = Function(\"f\")\n",
    "\n",
    "pprint(x**exp(x))\n",
    "\n",
    "pprint(Integral(f(x),x), use_unicode=True)"
   ]
  },
  {
   "cell_type": "markdown",
   "id": "acf69403",
   "metadata": {},
   "source": [
    "Dans le cas de la première façon d'importation, "
   ]
  },
  {
   "cell_type": "code",
   "execution_count": 30,
   "id": "89934071",
   "metadata": {},
   "outputs": [
    {
     "name": "stdout",
     "output_type": "stream",
     "text": [
      " ⎛ x⎞\n",
      " ⎝ℯ ⎠\n",
      "x    \n",
      "⌠         \n",
      "⎮  ⎛ x⎞   \n",
      "⎮  ⎝ℯ ⎠   \n",
      "⎮ x     dx\n",
      "⌡         \n"
     ]
    }
   ],
   "source": [
    "x = smp.symbols(\"x\")\n",
    "f = x**smp.exp(x) \n",
    "smp.pprint(f)\n",
    "   \n",
    "smp.pprint(smp.integrate(f, x), use_unicode=True)"
   ]
  },
  {
   "cell_type": "markdown",
   "id": "b9295a9f",
   "metadata": {},
   "source": [
    "On peut définir plusieurs symboles à la fois, "
   ]
  },
  {
   "cell_type": "code",
   "execution_count": 33,
   "id": "81a991bb",
   "metadata": {},
   "outputs": [],
   "source": [
    "l, m, n = smp.symbols('l m n')"
   ]
  },
  {
   "cell_type": "code",
   "execution_count": 35,
   "id": "19a85dd1",
   "metadata": {},
   "outputs": [
    {
     "data": {
      "text/latex": [
       "$\\displaystyle l^{2} + m \\sin{\\left(n \\right)}$"
      ],
      "text/plain": [
       "l**2 + m*sin(n)"
      ]
     },
     "execution_count": 35,
     "metadata": {},
     "output_type": "execute_result"
    }
   ],
   "source": [
    "F = l**2+smp.sin(n)*m\n",
    "F"
   ]
  },
  {
   "cell_type": "code",
   "execution_count": 38,
   "id": "9368b2f8",
   "metadata": {},
   "outputs": [
    {
     "data": {
      "text/plain": [
       "[-sqrt(-m*sin(n)), sqrt(-m*sin(n))]"
      ]
     },
     "execution_count": 38,
     "metadata": {},
     "output_type": "execute_result"
    }
   ],
   "source": [
    "l_sol= smp.solve(F,l)\n",
    "l_sol"
   ]
  },
  {
   "cell_type": "code",
   "execution_count": 40,
   "id": "69a67b92",
   "metadata": {},
   "outputs": [
    {
     "data": {
      "text/plain": [
       "[-l**2/sin(n)]"
      ]
     },
     "execution_count": 40,
     "metadata": {},
     "output_type": "execute_result"
    }
   ],
   "source": [
    "m_sol = smp.solve(F,m)\n",
    "m_sol"
   ]
  },
  {
   "cell_type": "code",
   "execution_count": 41,
   "id": "5a946618",
   "metadata": {},
   "outputs": [
    {
     "data": {
      "text/plain": [
       "[asin(l**2/m) + pi, -asin(l**2/m)]"
      ]
     },
     "execution_count": 41,
     "metadata": {},
     "output_type": "execute_result"
    }
   ],
   "source": [
    "n_sol = smp.solve(F,n)\n",
    "n_sol"
   ]
  },
  {
   "cell_type": "markdown",
   "id": "0879d090",
   "metadata": {},
   "source": [
    "Si on veut évaluer numériquement la fonction pour pouvoir la tracer, "
   ]
  },
  {
   "cell_type": "code",
   "execution_count": 43,
   "id": "cf3bd484",
   "metadata": {},
   "outputs": [
    {
     "data": {
      "text/latex": [
       "$\\displaystyle \\operatorname{asin}{\\left(\\frac{l^{2}}{m} \\right)} + \\pi$"
      ],
      "text/plain": [
       "asin(l**2/m) + pi"
      ]
     },
     "execution_count": 43,
     "metadata": {},
     "output_type": "execute_result"
    }
   ],
   "source": [
    "func = n_sol[0] \n",
    "func"
   ]
  },
  {
   "cell_type": "code",
   "execution_count": 45,
   "id": "95d3101d",
   "metadata": {},
   "outputs": [],
   "source": [
    "import matplotlib.pyplot as plt"
   ]
  },
  {
   "cell_type": "code",
   "execution_count": 55,
   "id": "223a4de4",
   "metadata": {},
   "outputs": [
    {
     "data": {
      "text/plain": [
       "3.6651914291880923"
      ]
     },
     "execution_count": 55,
     "metadata": {},
     "output_type": "execute_result"
    }
   ],
   "source": [
    "expr_func = smp.lambdify([l,m], func)\n",
    "expr_func(1,2)"
   ]
  },
  {
   "cell_type": "code",
   "execution_count": 56,
   "id": "64f4c314",
   "metadata": {},
   "outputs": [],
   "source": [
    "import numpy as np"
   ]
  },
  {
   "cell_type": "code",
   "execution_count": 57,
   "id": "c5bc45d0",
   "metadata": {},
   "outputs": [
    {
     "data": {
      "text/plain": [
       "[<matplotlib.lines.Line2D at 0x1eb84a46388>]"
      ]
     },
     "execution_count": 57,
     "metadata": {},
     "output_type": "execute_result"
    },
    {
     "data": {
      "image/png": "[encoded data removed]",
      "text/plain": [
       "<Figure size 640x480 with 1 Axes>"
      ]
     },
     "metadata": {},
     "output_type": "display_data"
    }
   ],
   "source": [
    "l_num = np.linspace(0,1,100)\n",
    "m_num = 2\n",
    "plt.plot(l_num, expr_func(l_num,m_num))"
   ]
  },
  {
   "cell_type": "code",
   "execution_count": null,
   "id": "75779f9a",
   "metadata": {},
   "outputs": [],
   "source": []
  }
 ],
 "metadata": {
  "kernelspec": {
   "display_name": "Python 3 (ipykernel)",
   "language": "python",
   "name": "python3"
  },
  "language_info": {
   "codemirror_mode": {
    "name": "ipython",
    "version": 3
   },
   "file_extension": ".py",
   "mimetype": "text/x-python",
   "name": "python",
   "nbconvert_exporter": "python",
   "pygments_lexer": "ipython3",
   "version": "3.7.16"
  }
 },
 "nbformat": 4,
 "nbformat_minor": 5
}
