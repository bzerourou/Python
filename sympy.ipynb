{
 "cells": [
  {
   "cell_type": "code",
   "execution_count": 12,
   "id": "f8022fde",
   "metadata": {},
   "outputs": [
    {
     "name": "stdout",
     "output_type": "stream",
     "text": [
      " ⎛ x⎞\n",
      " ⎝ℯ ⎠\n",
      "x    \n",
      "⌠        \n",
      "⎮ f(x) dx\n",
      "⌡        \n"
     ]
    }
   ],
   "source": [
    "from  sympy import Symbol, Function, exp, pprint, Integral, cos, series\n",
    " \n",
    "\n",
    "x = Symbol(\"x\")\n",
    "\n",
    "f= Function(\"f\")\n",
    "\n",
    "pprint(x**exp(x))\n",
    "\n",
    "\n",
    "pprint(Integral(f(x), x), use_unicode=True)\n",
    "\n",
    "\n"
   ]
  },
  {
   "cell_type": "code",
   "execution_count": 13,
   "id": "21fc027e",
   "metadata": {},
   "outputs": [
    {
     "data": {
      "text/latex": [
       "$\\displaystyle 1 + \\frac{x^{2}}{2} + \\frac{5 x^{4}}{24} + \\frac{61 x^{6}}{720} + \\frac{277 x^{8}}{8064} + O\\left(x^{10}\\right)$"
      ],
      "text/plain": [
       "1 + x**2/2 + 5*x**4/24 + 61*x**6/720 + 277*x**8/8064 + O(x**10)"
      ]
     },
     "execution_count": 13,
     "metadata": {},
     "output_type": "execute_result"
    }
   ],
   "source": [
    "(1/cos(x) ).series(x, 0, 10)"
   ]
  },
  {
   "cell_type": "code",
   "execution_count": 15,
   "id": "89934071",
   "metadata": {},
   "outputs": [
    {
     "data": {
      "text/latex": [
       "$\\displaystyle \\left(a + b\\right)^{3}$"
      ],
      "text/plain": [
       "(a + b)**3"
      ]
     },
     "execution_count": 15,
     "metadata": {},
     "output_type": "execute_result"
    }
   ],
   "source": [
    "a = Symbol(\"a\")\n",
    "b = Symbol(\"b\")\n",
    "\n",
    "e= (a+b)**3\n",
    "e"
   ]
  },
  {
   "cell_type": "code",
   "execution_count": 16,
   "id": "3e15b3b5",
   "metadata": {},
   "outputs": [
    {
     "data": {
      "text/latex": [
       "$\\displaystyle a^{3} + 3 a^{2} b + 3 a b^{2} + b^{3}$"
      ],
      "text/plain": [
       "a**3 + 3*a**2*b + 3*a*b**2 + b**3"
      ]
     },
     "execution_count": 16,
     "metadata": {},
     "output_type": "execute_result"
    }
   ],
   "source": [
    "e.expand(e)"
   ]
  },
  {
   "cell_type": "code",
   "execution_count": null,
   "id": "f57820a5",
   "metadata": {},
   "outputs": [],
   "source": []
  }
 ],
 "metadata": {
  "kernelspec": {
   "display_name": "Python 3 (ipykernel)",
   "language": "python",
   "name": "python3"
  },
  "language_info": {
   "codemirror_mode": {
    "name": "ipython",
    "version": 3
   },
   "file_extension": ".py",
   "mimetype": "text/x-python",
   "name": "python",
   "nbconvert_exporter": "python",
   "pygments_lexer": "ipython3",
   "version": "3.7.16"
  }
 },
 "nbformat": 4,
 "nbformat_minor": 5
}
