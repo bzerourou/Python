{
 "cells": [
  {
   "cell_type": "markdown",
   "id": "f6e6205e",
   "metadata": {},
   "source": [
    "# Sympy\n",
    "Sympy est une autre bibliothèque Python pour le calcul formel ou calcul symbolique dans le monde de l'informatique, contrairement à Numpy qui fait des calculs numérique, Sympy fait des calculs symboliques. "
   ]
  },
  {
   "cell_type": "markdown",
   "id": "757012f8",
   "metadata": {},
   "source": [
    "Il existe plusiers façon d'importer la bibliothèque **Sympy**,"
   ]
  },
  {
   "cell_type": "code",
   "execution_count": 5,
   "id": "f8022fde",
   "metadata": {},
   "outputs": [],
   "source": [
    "import sympy as smp\n"
   ]
  },
  {
   "cell_type": "markdown",
   "id": "3c0b7fb6",
   "metadata": {},
   "source": [
    "Ou bien,"
   ]
  },
  {
   "cell_type": "code",
   "execution_count": 1,
   "id": "add21d46",
   "metadata": {},
   "outputs": [],
   "source": [
    "from sympy import Symbol, Function, Integral, pprint, exp"
   ]
  },
  {
   "cell_type": "markdown",
   "id": "4ea9f7d0",
   "metadata": {},
   "source": [
    "**Note** : la différence entre les deux est que la première importation permet d'importer toute la bibliothèque sous un gros objet *smp* qui contient des membres ou fonctions permetant la contruction et le calcul symbolique par des appel de fonctions qui renvoient des objets, la deuxième permet d'importer seulement des classes avec lesquelles on instancie des objets,\n"
   ]
  },
  {
   "cell_type": "markdown",
   "id": "c42c7ea4",
   "metadata": {},
   "source": [
    "#### Première utilisation\n",
    "Dans le cas de la deuxième façon d'importer la bibliothèque,"
   ]
  },
  {
   "cell_type": "code",
   "execution_count": 2,
   "id": "2e6d9b36",
   "metadata": {
    "scrolled": true
   },
   "outputs": [
    {
     "data": {
      "text/latex": [
       "$\\displaystyle \\left(a + b\\right)^{3}$"
      ],
      "text/plain": [
       "(a + b)**3"
      ]
     },
     "execution_count": 2,
     "metadata": {},
     "output_type": "execute_result"
    }
   ],
   "source": [
    "a = Symbol(\"a\")\n",
    "b = Symbol(\"b\")\n",
    "\n",
    "e= (a+b)**3\n",
    "e"
   ]
  },
  {
   "cell_type": "markdown",
   "id": "169480ef",
   "metadata": {},
   "source": [
    "#### Distribution "
   ]
  },
  {
   "cell_type": "code",
   "execution_count": 3,
   "id": "bfd0500c",
   "metadata": {
    "scrolled": false
   },
   "outputs": [
    {
     "data": {
      "text/latex": [
       "$\\displaystyle a^{3} + 3 a^{2} b + 3 a b^{2} + b^{3}$"
      ],
      "text/plain": [
       "a**3 + 3*a**2*b + 3*a*b**2 + b**3"
      ]
     },
     "execution_count": 3,
     "metadata": {},
     "output_type": "execute_result"
    }
   ],
   "source": [
    "e.expand(e)"
   ]
  },
  {
   "cell_type": "markdown",
   "id": "37a1af2b",
   "metadata": {},
   "source": [
    "#### Deuxième exemple poussé"
   ]
  },
  {
   "cell_type": "code",
   "execution_count": 4,
   "id": "7536fb5f",
   "metadata": {
    "scrolled": true
   },
   "outputs": [
    {
     "name": "stdout",
     "output_type": "stream",
     "text": [
      " ⎛ x⎞\n",
      " ⎝ℯ ⎠\n",
      "x    \n",
      "⌠        \n",
      "⎮ f(x) dx\n",
      "⌡        \n"
     ]
    }
   ],
   "source": [
    "x = Symbol(\"x\")\n",
    "f = Function(\"f\")\n",
    "\n",
    "pprint(x**exp(x))\n",
    "\n",
    "pprint(Integral(f(x),x), use_unicode=True)"
   ]
  },
  {
   "cell_type": "markdown",
   "id": "0fad85e4",
   "metadata": {},
   "source": [
    "Dans le cas de la première façon d'importation, "
   ]
  },
  {
   "cell_type": "code",
   "execution_count": 6,
   "id": "89934071",
   "metadata": {},
   "outputs": [
    {
     "name": "stdout",
     "output_type": "stream",
     "text": [
      " ⎛ x⎞\n",
      " ⎝ℯ ⎠\n",
      "x    \n",
      "⌠         \n",
      "⎮  ⎛ x⎞   \n",
      "⎮  ⎝ℯ ⎠   \n",
      "⎮ x     dx\n",
      "⌡         \n"
     ]
    }
   ],
   "source": [
    "x = smp.symbols(\"x\")\n",
    "f = x**smp.exp(x) \n",
    "smp.pprint(f)\n",
    "   \n",
    "smp.pprint(smp.integrate(f, x), use_unicode=True)"
   ]
  }
 ],
 "metadata": {
  "kernelspec": {
   "display_name": "Python 3 (ipykernel)",
   "language": "python",
   "name": "python3"
  },
  "language_info": {
   "codemirror_mode": {
    "name": "ipython",
    "version": 3
   },
   "file_extension": ".py",
   "mimetype": "text/x-python",
   "name": "python",
   "nbconvert_exporter": "python",
   "pygments_lexer": "ipython3",
   "version": "3.7.16"
  }
 },
 "nbformat": 4,
 "nbformat_minor": 5
}
