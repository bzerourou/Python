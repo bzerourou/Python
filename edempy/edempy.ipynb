{
 "cells": [
  {
   "cell_type": "markdown",
   "id": "7e7ea4a0-3d7d-46c0-ad2d-c8dbac55c216",
   "metadata": {},
   "source": [
    "# EDEMpy"
   ]
  },
  {
   "cell_type": "markdown",
   "id": "685b9b6e-5bcd-4bb0-9b9e-6f3e11d6843c",
   "metadata": {},
   "source": [
    "__EDEMpy__ est une bibliothèque qui accompagne le produit Altair EDEM à partir de la version 2018, pour le post-traitement et l'analyse des données sous format open-source hdf5.\n",
    "Vous pouvez automatiser le processus de création, extraction et affichage de données pendant les simulation avec EDEM en dehors de son interface graphique (GUI).\n"
   ]
  },
  {
   "cell_type": "markdown",
   "id": "6f3e4cf8-79d8-436f-a3b9-49fa048021eb",
   "metadata": {},
   "source": [
    "# Installation "
   ]
  },
  {
   "cell_type": "markdown",
   "id": "f3a83c0e-c65f-41de-a02c-fc2d2b1ec465",
   "metadata": {},
   "source": [
    "#### Avec Anaconda"
   ]
  },
  {
   "cell_type": "markdown",
   "id": "dad5f150-e825-4751-af3b-7dd4f7dad93a",
   "metadata": {},
   "source": [
    "Il vous suffit seulement de créer un environnement sous **Anaconda**, après avoir ouvert une console Anaconda, puis de taper ces commande  :"
   ]
  },
  {
   "cell_type": "markdown",
   "id": "b70bfdd0-2174-4d6f-9563-fdefcfd9d895",
   "metadata": {},
   "source": [
    "conda create -n edempy python=3.8.10\n",
    "\n",
    "conda activate edempy"
   ]
  },
  {
   "cell_type": "markdown",
   "id": "3cd0b46a-f307-4d51-9f54-58d77a71d17b",
   "metadata": {},
   "source": [
    "La version du python ne représente pas un facteur essentiel,vous trouverez le lien de téléchargement de la bibliothèque sur ce lien,[EDEMpy 0.1.4](https://drive.google.com/file/d/1pnKVp31JCjIze3dM1KVh1m1ePqfXnDAt/view?usp=drive_link) ou sur mon [git](https://github.com/bzerourou/Python/blob/main/edempy/edempy-0.1.4.tar.gz), procédez à son installation avec cette commande :\n"
   ]
  },
  {
   "cell_type": "markdown",
   "id": "a8a3c66b-5297-401e-917d-84e3b58f16d6",
   "metadata": {},
   "source": [
    "pip install edempy-0.1.4.tar.gz"
   ]
  },
  {
   "cell_type": "markdown",
   "id": "82bfc162-0ca0-4467-90c4-b55e97325710",
   "metadata": {},
   "source": [
    "**Note** : la version de cette bibliothèque date de 2020, des nouvelles version sont sorties depuis, proposent même le pre-processing, ce que veut dire que les classes peuvent êtres réécrites d'une autre façon, ceratines attributs ne seront plus disponibles dans les versions récentes."
   ]
  },
  {
   "cell_type": "markdown",
   "id": "4a1db753-ef0d-467e-afbb-abe3dd815df5",
   "metadata": {},
   "source": [
    "#### Avec venv"
   ]
  },
  {
   "cell_type": "markdown",
   "id": "21942aab-d8c2-4e1e-9ce4-2ad2f2a4f91b",
   "metadata": {},
   "source": [
    "Ouvrez l'invite de commande sur le chemin où vous voulez créer un environnement python, dans mon cas sur \"documents\", puis tapez cette commande :"
   ]
  },
  {
   "cell_type": "markdown",
   "id": "a7d23ca1-7b94-4d44-85ce-b6fd526dc049",
   "metadata": {},
   "source": [
    "python -m venv edempy"
   ]
  },
  {
   "cell_type": "markdown",
   "id": "1b7fdd18-1498-460d-842a-cc894ec46d56",
   "metadata": {},
   "source": [
    "Activez ensuite votre environnement avec la commande _activate_ , "
   ]
  },
  {
   "cell_type": "markdown",
   "id": "b19b479a-f2f5-4187-bb83-31ca7001e2d2",
   "metadata": {},
   "source": [
    "Placez vous sur le chemin de la bibliothèque __EDEMpy__ que vous avez téléchargé, avec la commande _cd_ 'chemin', et tapez cette commande :"
   ]
  },
  {
   "cell_type": "markdown",
   "id": "4f20468a-6f89-4524-87d2-488ccec86416",
   "metadata": {},
   "source": [
    "pip install edempy-0.1.4.tar.gz"
   ]
  },
  {
   "cell_type": "markdown",
   "id": "604c4355-e849-4e0e-8dec-d1c731cf2172",
   "metadata": {},
   "source": [
    "## Utilisation  de EDEMpy"
   ]
  },
  {
   "cell_type": "code",
   "execution_count": null,
   "id": "1810aecc-6c5f-459f-abdd-d6148e607460",
   "metadata": {},
   "outputs": [],
   "source": [
    "import edempy.Deck as Deck "
   ]
  },
  {
   "cell_type": "markdown",
   "id": "753a6fbc-d26d-4bb6-9766-b44cb0de1fc6",
   "metadata": {},
   "source": [
    "La classe `Deck` englobe un projet dans __EDEM GUI__, elle contient toutes les données de ce projet. Si vous avez le logiciel EDEM GUI, il vous suffit seuelement de créer un nouveau projet viden et de le sauvegarder, si vous avez pas le logiciel vous pouvez télécharger un projet vide que j'avais déjà préparer [projet vide ](https://drive.google.com/file/d/1-N6Orlu_7XWrBsJhc9dLS_LUN9aED5yz/view?usp=drive_link) ou sur mon [git](https://github.com/bzerourou/Python/tree/main/edempy/empty) ."
   ]
  },
  {
   "cell_type": "markdown",
   "id": "b2558b14-0f7b-48a5-8665-601ead7cd353",
   "metadata": {},
   "source": [
    "## 1. Accès aux informations d'un modèle"
   ]
  },
  {
   "cell_type": "markdown",
   "id": "c546827e-08a1-4b9f-b350-489d427457bb",
   "metadata": {},
   "source": [
    "la classe `Deck` prend en paramètre le chemin complet de votre projet avec l'extension '.dem', pour ne pas donner le chemin complet vous pouvez créer votre script python dans le même repertoire de votre projet EDEM GUI, "
   ]
  },
  {
   "cell_type": "code",
   "execution_count": null,
   "id": "a76e490c-6fdd-4401-9d5b-631bb9f8ffcc",
   "metadata": {},
   "outputs": [],
   "source": [
    "deck = Deck('empty.dem')"
   ]
  },
  {
   "cell_type": "markdown",
   "id": "b89ad42d-510b-454f-bae9-1598f5d7b8e5",
   "metadata": {},
   "source": [
    "les propriétés de cette classe sont nombreuses, chacune sert à stocker des données d'une simulation, on peut citer :"
   ]
  },
  {
   "cell_type": "code",
   "execution_count": null,
   "id": "450e9504-67d4-48d5-ac7b-881560fad6dc",
   "metadata": {},
   "outputs": [],
   "source": [
    "# Classe CreatorData qui contient les données du premier pas de temps de simulation (step 0) \n",
    "print(deck.creatorData)\n",
    "# positions x,y et z max du domaine\n",
    "print(deck.domainMax)\n",
    "# positions x,y et z min du domaine\n",
    "print(deck.domainMin)\n",
    "# liste des noms des géométries \n",
    "print(deck.geometryNames)\n",
    "# liste des paires d’interactions de matériaux utilisées dans la simulation\n",
    "print(deck.interactionPairs)\n",
    "#liste des matériaux\n",
    "print(deck.materialNames)\n",
    "# nombre de géométries \n",
    "print(deck.numGeoms)\n",
    "# nombre du pas du temps de la simulation\n",
    "print(deck.numTimesteps)\n",
    "# nombre de type de particules d'une simultion\n",
    "print(deck.numTypes)\n",
    "# liste des noms de particules\n",
    "print(deck.particleNames)\n",
    "# liste de la Classe Timestep qui contient toutes les données des pas de temps de la simulation\n",
    "print(deck.timestep)\n",
    "# dictionnaire des pas de temps\n",
    "print(deck.timestepKeys)\n",
    "# lsite des pas de temps \n",
    "print(deck.timestepValues)"
   ]
  },
  {
   "cell_type": "markdown",
   "id": "970a0873-dc20-4da8-8669-7b9d986f4203",
   "metadata": {},
   "source": [
    "Pour comprendre toput ça vaut mieux ouvrir un projet EDEM GUI parmi les exemples proposés par le code et de voir tous les objets créer dans ce projet, dans mon cas je vais ouvrir le projet \"Cohesion and Conveyor.dem\","
   ]
  },
  {
   "cell_type": "markdown",
   "id": "fe59fd1a-17ec-4b78-a8ab-8414737654f7",
   "metadata": {},
   "source": [
    "![](attachments/cohesion_and_conveyor.JPG)"
   ]
  },
  {
   "cell_type": "markdown",
   "id": "4222fe18-ee59-4120-b345-b3bb2c8ed901",
   "metadata": {},
   "source": [
    "Vous pouvez voir le résultat de votre console et faire une comparaison avec les projet de EDEM GUI."
   ]
  },
  {
   "cell_type": "markdown",
   "id": "51adeb13-0e65-478a-81a3-465f18067e61",
   "metadata": {},
   "source": [
    "#### Classe CreatorData"
   ]
  },
  {
   "cell_type": "markdown",
   "id": "a5d8e701-328f-449d-983e-75d7f3115e65",
   "metadata": {},
   "source": [
    "Cette classe contient de nombreuses autres classes contenant les informations du premier pas de temps qui sont stockés dans le fichier \"0.h5\", on peut trouver : \n",
    "* deck.creatorData.domain ;\n",
    "* deck.creatorData.geometry ;\n",
    "* deck.creatorData.interactions ;\n",
    "* deck.creatorData.materials ;\n",
    "* deck.creatorData.particle ;\n",
    "* etc."
   ]
  },
  {
   "cell_type": "markdown",
   "id": "bef69c28-9e10-4a5d-87f0-34887dde5079",
   "metadata": {},
   "source": [
    "Noter que cette classe contient aussi des propriétés et des fonctions tels que : \n",
    "* deck.creatorData.geometryNames : qui renvoit les noms de géométries ;"
   ]
  },
  {
   "cell_type": "markdown",
   "id": "f12ea741-ea7c-446c-b923-59b03d4a19eb",
   "metadata": {},
   "source": [
    "##### Attribut geometry\n",
    "\n",
    "Attribut représentant la géométrie,"
   ]
  },
  {
   "cell_type": "code",
   "execution_count": null,
   "id": "53269970-508b-4fbf-9762-ffe803c85686",
   "metadata": {},
   "outputs": [],
   "source": [
    "deck.creatorData.geometry[0].getXCoords()"
   ]
  },
  {
   "cell_type": "markdown",
   "id": "6da82426-290d-4ef1-b148-cb4d850de298",
   "metadata": {},
   "source": [
    "Cette ligne permet d'accéder à la première géométrie et de renvoyer les coordonnées x, vous pouvez procéder par les clés pour accéder aux éléments, car l'attribut *geometry* est une liste et dictionnaire."
   ]
  },
  {
   "cell_type": "markdown",
   "id": "9bc67056-d472-4c8d-9665-7f5c55eea5cb",
   "metadata": {},
   "source": [
    "Il existe une panoplie de fonctions dans la classe `Geometry` : \n",
    "* deck.creatorData.geometry[0].getCoords();\n",
    "* deck.creatorData.geometry[0].getXCoords();\n",
    "* deck.creatorData.geometry[0].getYCoords();\n",
    "* deck.creatorData.geometry[0].getZCoords();\n",
    "* deck.creatorData.geometry[0].getFrorce();\n",
    "* deck.creatorData.geometry[0].getXForce();\n",
    "* deck.creatorData.geometry[0].getYForce();\n",
    "* deck.creatorData.geometry[0].getZForce();\n",
    "* deck.creatorData.geometry[0].getTorque();\n",
    "* deck.creatorData.geometry[0].getXTorque();\n",
    "* deck.creatorData.geometry[0].getYTorque();\n",
    "* deck.creatorData.geometry[0].getZTorque();\n",
    "* deck.creatorData.geometry[0].getCoM() : centre de masse;\n",
    "* deck.creatorData.geometry[0].getTriangleNodes();\n",
    "* deck.creatorData.geometry[0].getMaterial();\n",
    "* deck.creatorData.geometry[0].getFactoryNames();\n",
    "* etc."
   ]
  },
  {
   "cell_type": "markdown",
   "id": "910f21c9-a947-44ca-9a4f-b50270b2f007",
   "metadata": {},
   "source": [
    "Un exemple pour bien illustrer ce que on vient de voir :"
   ]
  },
  {
   "cell_type": "code",
   "execution_count": null,
   "id": "7252ee92-f5f4-4225-8c41-d825cb59435f",
   "metadata": {},
   "outputs": [],
   "source": [
    "import matplotlib.pyplot as plt\n",
    "from mpl_toolkits.mplot3d import Axes3D\n",
    "\n",
    "# nompbre de géométries\n",
    "nGeoms = deck.numGeoms\n",
    "# parcourir toutes les géométries \n",
    "for i in range(0,nGeoms):\n",
    "    x = deck.creatorData.geometry[i].getXCoords()\n",
    "    y = deck.creatorData.geometry[i].getYCoords()\n",
    "    z = deck.creatorData.geometry[i].getZCoords()\n",
    "    tri = deck.creatorData.geometry[i].getTriangleNodes()\n",
    "    ax.plot_trisurf(x, y, z, triangles=tri, alpha=0.2, color='lightgrey')\n"
   ]
  },
  {
   "cell_type": "markdown",
   "id": "449ffa76-ef61-4c39-9cab-e7601e0ccae8",
   "metadata": {},
   "source": [
    "Si vous n'avez pas encore installer la bibliothèque `matplotlib`, il vous suffit suelement de taper cette commande : "
   ]
  },
  {
   "cell_type": "markdown",
   "id": "25b803d6-59f8-4ba0-8cff-2f329e4ff239",
   "metadata": {},
   "source": [
    "pip install matplotlib"
   ]
  },
  {
   "cell_type": "markdown",
   "id": "42b0dc78-005d-4c5f-b099-4711ff4fd9df",
   "metadata": {},
   "source": [
    "##### Attribut particle\n",
    "\n",
    "Attribut représentant les particules, "
   ]
  },
  {
   "cell_type": "code",
   "execution_count": null,
   "id": "4e8e3caa-b009-4f25-a058-d25a929b4a68",
   "metadata": {},
   "outputs": [],
   "source": [
    "deck.creatorData.particleNames #renvoit les noms des particules \n",
    "deck.creatorData.particles[0].getRawMass() #renvoit la masse de la particule 0"
   ]
  },
  {
   "cell_type": "markdown",
   "id": "86d1d651-015d-4b57-afe2-39783187fb05",
   "metadata": {},
   "source": [
    "`particle` est une liste et dictionnaire, quelques fonctions liées à cette classe :\n",
    "* deck.creatorData.particle[0].getRawMass();\n",
    "* deck.creatorData.particle[0].getRawVolume();\n",
    "* deck.creatorData.particle[0].getRawInertia();\n",
    "* deck.creatorData.particle[0].getMaterial();\n",
    "* deck.creatorData.particle[0].getSpheres();\n",
    "* etc."
   ]
  },
  {
   "cell_type": "markdown",
   "id": "1aada5e2-7a22-4339-89ee-79d47ed65f8f",
   "metadata": {},
   "source": [
    "#### Classe Timestep\n",
    "\n",
    "Attribut représentant les pas de temps d'une simulation, on a vu la classe `CreatorData` pour le premier pas de temps, par contre à partir du deuxième pas de temps, toutes les informations seront stockés dans l'objet *timestep*, elle fait l'objet d'abstration de tous les attributs qu'on a vu avec la classe `CreatorData` qui ne sont pas les mêmes, \n",
    "* deck.timestep.domain ;\n",
    "* deck.timestep.geometry ;\n",
    "* deck.timestep.interactions ;\n",
    "* deck.timestep.materials ;\n",
    "* deck.timestep.particle ;\n",
    "* deck.timestep.energy ;\n",
    "* etc."
   ]
  },
  {
   "cell_type": "code",
   "execution_count": null,
   "id": "e133bd7b-1843-4674-8f81-1aa98f9edd5b",
   "metadata": {},
   "outputs": [],
   "source": [
    "deck.timestep[1].particle[0].getPositions()"
   ]
  },
  {
   "cell_type": "markdown",
   "id": "182c5caa-dab2-454a-9188-31eff52763c0",
   "metadata": {},
   "source": [
    "##### Attribut geometry\n",
    "Représente la géométrie avec beaucoup de membres en communs avec celle de `CreatorData`, elle offre beaucoup plus de focntions :"
   ]
  },
  {
   "cell_type": "markdown",
   "id": "c8e5803c-e557-4c85-929a-fd5a6d04be11",
   "metadata": {},
   "source": [
    "* deck.timestep[1].geometry[0].getTransformMatrix() ;\n",
    "* deck.timestep[1].geometry[0].getSimulationTransformMatrix()\n",
    "* etc."
   ]
  },
  {
   "cell_type": "markdown",
   "id": "29009807-1c72-461a-b639-d979882ee2de",
   "metadata": {},
   "source": [
    "##### Attribut particle\n",
    "Quelques fonctions utilies de notre attribut pour récupérer certaines informations au cours d'une simulation, "
   ]
  },
  {
   "cell_type": "markdown",
   "id": "fd51cd67-0960-4cdf-862e-1604be014fad",
   "metadata": {},
   "source": [
    "* deck.timestep[1].particle[0].getIds();\n",
    "* deck.timestep[1].particle[0].getXPositions();\n",
    "* deck.timestep[1].particle[0].getYPositions();\n",
    "* deck.timestep[1].particle[0].getZPositions();\n",
    "* deck.timestep[1].particle[0].getXVelocities();\n",
    "* deck.timestep[1].particle[0].getYVelocities();\n",
    "* deck.timestep[1].particle[0].getZVelocities();\n",
    "* deck.timestep[1].particle[0].getXForce();\n",
    "* deck.timestep[1].particle[0].getYForce();\n",
    "* deck.timestep[1].particle[0].getZForce();\n",
    "* etc."
   ]
  },
  {
   "cell_type": "markdown",
   "id": "5792b2cd-d57a-4a42-909e-de87a0635a5f",
   "metadata": {},
   "source": [
    "##### Attribut contact\n",
    "Il est lié aux  informations de contact, quelques fonctions de la classe `Contact` :"
   ]
  },
  {
   "cell_type": "markdown",
   "id": "9f7ff40d-66b3-4a0f-b69f-342ab0814a17",
   "metadata": {},
   "source": [
    "Contact surface/surface"
   ]
  },
  {
   "cell_type": "markdown",
   "id": "6b317e6f-66bd-4256-9e93-ed8ee39c8e88",
   "metadata": {},
   "source": [
    "* deck.timestep[1].contact.surfSurf.getIds();\n",
    "* deck.timestep[1].contact.surfSurf.getPositions();\n",
    "* deck.timestep[1].contact.surfSurf.getXPositions();\n",
    "* deck.timestep[1].contact.surfSurf.getYPositions();\n",
    "* deck.timestep[1].contact.surfSurf.getZPositions();\n",
    "* deck.timestep[1].contact.surfSurf.NormalForce();\n",
    "* deck.timestep[1].contact.surfSurf.getTangentialForce();\n",
    "* deck.timestep[1].contact.surfSurf.getNumContacts();\n",
    "* deck.timestep[1].contact.surfSurf.getContacts();\n",
    "* etc."
   ]
  },
  {
   "cell_type": "markdown",
   "id": "06c988c6-ee8d-4def-b2d1-abc5fb7a6a8c",
   "metadata": {},
   "source": [
    "Contact surface/Géométrie"
   ]
  },
  {
   "cell_type": "markdown",
   "id": "231ed1fd-0d54-429f-9c06-9b8a3381cd4a",
   "metadata": {},
   "source": [
    "* deck.timestep[1].contact.surfGeom.getIds();\n",
    "* deck.timestep[1].contact.surfGeom.getPositions();\n",
    "* deck.timestep[1].contact.surfGeom.getXPositions();\n",
    "* deck.timestep[1].contact.surfGeom.getYPositions();\n",
    "* deck.timestep[1].contact.surfGeom.getZPositions();\n",
    "* deck.timestep[1].contact.surfGeom.NormalForce();\n",
    "* deck.timestep[1].contact.surfGeom.getTangentialForce();\n",
    "* deck.timestep[1].contact.surfGeom.getNumContacts();\n",
    "* deck.timestep[1].contact.surfGeom.getContacts();\n",
    "* etc."
   ]
  },
  {
   "cell_type": "markdown",
   "id": "f986d295-e4b1-4ef1-be42-216cd88c6f56",
   "metadata": {},
   "source": [
    "##### Attribut bond\n",
    "Similaire à *contact*, avec quelques propriétés en plus :"
   ]
  },
  {
   "cell_type": "markdown",
   "id": "060c86da-f30f-433c-8e4d-6163627e9f8d",
   "metadata": {},
   "source": [
    "* deck.timestep[1].bond.getIds();\n",
    "* deck.timestep[1].bond.getBonds();\n",
    "* deck.timestep[1].bond.getState();\n",
    "* deck.timestep[1].bond.getPositions();\n",
    "* deck.timestep[1].bond.getNormalForce();\n",
    "* deck.timestep[1].bond.getTangentialForce();\n",
    "* deck.timestep[1].bond.getNormalToque();\n",
    "* deck.timestep[1].bond.getTangentialTorque();\n",
    "* etc."
   ]
  },
  {
   "cell_type": "markdown",
   "id": "250d09b8-e1ee-4868-aefa-103ce6af327d",
   "metadata": {},
   "source": [
    "##### Attribut collision\n",
    "Similaire à *contact* ou à *bond*, avec quelques propriétés en plus, pour les collision entre surface/surface :"
   ]
  },
  {
   "cell_type": "markdown",
   "id": "bf7d8737-8b53-402a-846c-916e5d74c651",
   "metadata": {},
   "source": [
    "* deck.timestep[1].collision.surfSurf.geSecondIds();\n",
    "* deck.timestep[1].collision.surfSurf.getSecondPosition();\n",
    "* deck.timestep[1].collision.surfSurf.getSecondXPosition();\n",
    "* deck.timestep[1].collision.surfSurf.getSecondYPosition();\n",
    "* deck.timestep[1].collision.surfSurf.getSecondZPosition();\n",
    "* deck.timestep[1].collision.surfSurf.getSecondVelocity();\n",
    "* deck.timestep[1].collision.surfSurf.getSecondXVelocity();\n",
    "* deck.timestep[1].collision.surfSurf.getSecondYVelocity();\n",
    "* deck.timestep[1].collision.surfSurf.getSecondZVelocity();\n",
    "* deck.timestep[1].collision.surfSurf.getSecondAngularVelocity();\n",
    "* deck.timestep[1].collision.surfSurf.getSecondOrientation();\n",
    "* etc."
   ]
  },
  {
   "cell_type": "markdown",
   "id": "6df29604-e5f1-44b5-ba78-5e2c03857c48",
   "metadata": {},
   "source": [
    "## 2. Classe de capture"
   ]
  },
  {
   "cell_type": "markdown",
   "id": "7ab79b44-bd12-4b7b-b85b-2a81bc70f908",
   "metadata": {},
   "source": [
    "la bibliothèque __EDEMpy__ propose deux classes `BoxBin` et `CylinderBin` que nous pouvons utiliser pour détecter la présence de particules dans nos deux objets, un exemple tout simple:"
   ]
  },
  {
   "cell_type": "code",
   "execution_count": null,
   "id": "c9b57d8c-3f1a-4963-b7cc-f5ac4094b66f",
   "metadata": {},
   "outputs": [],
   "source": [
    "import edempy.Deck as Deck \n",
    "from edempy import BoxBin, CylinderBin\n",
    "import matplotlib.pyplot as plt\n",
    "\n",
    "deck = Deck('Tutorial_Simulation.dem')\n",
    "\n",
    "#on crée une boite pour représenter notre équipement  \n",
    "boxbin = BoxBin([-0.4924039, 0.0, 0.08682409], [0.4924039, 0.0, -0.08682409], 0.3)\n",
    "\n",
    "# initialiser la masse totale\n",
    "total_mass =[0]\n",
    "\n",
    "for i in range(1, deck.numTimesteps):\n",
    "    # on récupère ID de chaque particule\n",
    "    pIds = deck.timestep[i].particle[0].getIds()\n",
    "    # vecteur positions\n",
    "    pPos = deck.timestep[i].particle[0].getPositions()\n",
    "    # assurer que y a présence \n",
    "    ids_inside = boxbin.getBinnedObjects(pIds, pPos)\n",
    "    mass_inside = 0\n",
    "    # parcourir les particules présentes\n",
    "    for id_inside in ids_inside:\n",
    "        # récupère et somme les masses\n",
    "        mass_inside += deck.timestep[i].particle[0].getMass(id_inside)\n",
    "    # ajoute la somme des masses à la notre liste     \n",
    "    total_mass.append(mass_inside)\n",
    "# récupère tous les pas du temps    \n",
    "time_values = deck.timestepValues\n",
    "\n",
    "# tracer la courbe de masse en fonction du temps\n",
    "plt.figure(figsize=(7, 5), dpi=120)\n",
    "plt.plot(time_values,total_mass, linewidth=2.5, color='cyan')\n",
    "plt.xlabel('Temps (s)', fontsize = 13, fontname = 'Arial')\n",
    "plt.ylabel('Masse dans le Mixeur (kg)', fontsize = 13, fontname = 'Arial')\n",
    "plt.grid(True)\n",
    "plt.show()"
   ]
  },
  {
   "cell_type": "markdown",
   "id": "e4ac117b-104c-421c-b4ac-7354dfc2622a",
   "metadata": {},
   "source": [
    "![](attachments/figure1.JPG)"
   ]
  },
  {
   "cell_type": "markdown",
   "id": "12f54fec-2e3a-4d5d-afe5-d8de97c643aa",
   "metadata": {},
   "source": [
    "![](attachments/tutorial_simulation.JPG)"
   ]
  },
  {
   "cell_type": "markdown",
   "id": "0f693fd0-e74d-43d1-9c8d-e397387d4960",
   "metadata": {},
   "source": [
    "Il existe une fonction *getBinnedProperty()* pour collecter la présence de paticule, de contact et de collision,"
   ]
  },
  {
   "cell_type": "code",
   "execution_count": null,
   "id": "84a63c93-c643-447d-b345-dc58e7e1bf01",
   "metadata": {},
   "outputs": [],
   "source": [
    "i = 50\n",
    "nX = 1\n",
    "nY = 1\n",
    "nZ = 1\n",
    "\n",
    "binnedAveVel, x, y, z = deck.timestep[i].particle[0].getBinnedProperty(nX, nY, nZ, \n",
    "option='velocity', average=True)"
   ]
  }
 ],
 "metadata": {
  "kernelspec": {
   "display_name": "Python 3 (ipykernel)",
   "language": "python",
   "name": "python3"
  },
  "language_info": {
   "codemirror_mode": {
    "name": "ipython",
    "version": 3
   },
   "file_extension": ".py",
   "mimetype": "text/x-python",
   "name": "python",
   "nbconvert_exporter": "python",
   "pygments_lexer": "ipython3",
   "version": "3.12.2"
  }
 },
 "nbformat": 4,
 "nbformat_minor": 5
}
