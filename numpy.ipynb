{
 "cells": [
  {
   "cell_type": "markdown",
   "id": "268b87ba",
   "metadata": {},
   "source": [
    "# Numpy \n",
    "\n",
    "L'utilisation de Numpy est indispenseable dans les métiers tehcniques, cette bibliothèque Python nous permet des calculs numériques très poussés. "
   ]
  },
  {
   "cell_type": "code",
   "execution_count": 1,
   "id": "f8022fde",
   "metadata": {},
   "outputs": [],
   "source": [
    "import numpy as np\n"
   ]
  },
  {
   "cell_type": "markdown",
   "id": "5f19e92d",
   "metadata": {},
   "source": [
    "## Array et génération"
   ]
  },
  {
   "cell_type": "code",
   "execution_count": 2,
   "id": "21fc027e",
   "metadata": {},
   "outputs": [],
   "source": [
    "a1 = np.array([12,13,14,15,16,17,18,19])"
   ]
  },
  {
   "cell_type": "code",
   "execution_count": 3,
   "id": "89934071",
   "metadata": {},
   "outputs": [],
   "source": [
    "a2 = np.array([20,21,23,24,25])"
   ]
  },
  {
   "cell_type": "code",
   "execution_count": 4,
   "id": "7fe10b46",
   "metadata": {},
   "outputs": [],
   "source": [
    "a3 = np.zeros(10)"
   ]
  },
  {
   "cell_type": "code",
   "execution_count": 5,
   "id": "562ea629",
   "metadata": {},
   "outputs": [],
   "source": [
    "a4 = np.ones(5)"
   ]
  },
  {
   "cell_type": "code",
   "execution_count": 6,
   "id": "2ce41e28",
   "metadata": {},
   "outputs": [],
   "source": [
    "a5 = np.linspace(0,10,100)   # avec un nombre de valeur "
   ]
  },
  {
   "cell_type": "code",
   "execution_count": 7,
   "id": "97398f93",
   "metadata": {},
   "outputs": [],
   "source": [
    "a6 = np.arange(0,10,0.1)     # avec un pas "
   ]
  },
  {
   "cell_type": "code",
   "execution_count": 8,
   "id": "b3bfc83a",
   "metadata": {},
   "outputs": [],
   "source": [
    "a7 = np.random.random(10)"
   ]
  },
  {
   "cell_type": "code",
   "execution_count": 9,
   "id": "d2d2f260",
   "metadata": {},
   "outputs": [],
   "source": [
    "a8 = np.random.randn(5)   #avec une distribution normale (distribution de Gauss)"
   ]
  },
  {
   "cell_type": "markdown",
   "id": "886f5b16",
   "metadata": {},
   "source": [
    "### Affichage"
   ]
  },
  {
   "cell_type": "code",
   "execution_count": 10,
   "id": "4e7a3976",
   "metadata": {},
   "outputs": [
    {
     "data": {
      "text/plain": [
       "array([1., 1., 1., 1., 1.])"
      ]
     },
     "execution_count": 10,
     "metadata": {},
     "output_type": "execute_result"
    }
   ],
   "source": [
    "a4"
   ]
  },
  {
   "cell_type": "markdown",
   "id": "94d1463e",
   "metadata": {},
   "source": [
    "## Opérations sur les Arrays"
   ]
  },
  {
   "cell_type": "code",
   "execution_count": 11,
   "id": "c4554630",
   "metadata": {},
   "outputs": [
    {
     "data": {
      "text/plain": [
       "array([40, 42, 46, 48, 50])"
      ]
     },
     "execution_count": 11,
     "metadata": {},
     "output_type": "execute_result"
    }
   ],
   "source": [
    "a2 *2"
   ]
  },
  {
   "cell_type": "markdown",
   "id": "5b014c10",
   "metadata": {},
   "source": [
    "**Note** : il faudra s'assurer que le nombre de lignes d'un vecteur est égal aux nombre de colonnes du deuxième vecteur avant de les multiplier."
   ]
  },
  {
   "cell_type": "code",
   "execution_count": 13,
   "id": "16bb50a5",
   "metadata": {},
   "outputs": [
    {
     "data": {
      "text/plain": [
       "array([ 0.20691253,  1.66577983,  0.39727297, -0.94720142,  0.37193322])"
      ]
     },
     "execution_count": 13,
     "metadata": {},
     "output_type": "execute_result"
    }
   ],
   "source": [
    "a4*a8"
   ]
  },
  {
   "cell_type": "code",
   "execution_count": 17,
   "id": "88d95774",
   "metadata": {},
   "outputs": [
    {
     "data": {
      "text/plain": [
       "array([0.6166521 , 0.42596134, 0.85277911, 0.62301843, 0.2813629 ,\n",
       "       0.28738606, 0.37731128, 0.10850141, 0.62982961, 0.27038465])"
      ]
     },
     "execution_count": 17,
     "metadata": {},
     "output_type": "execute_result"
    }
   ],
   "source": [
    "5*a3 + a7"
   ]
  },
  {
   "cell_type": "code",
   "execution_count": 18,
   "id": "4a73f012",
   "metadata": {},
   "outputs": [
    {
     "data": {
      "text/plain": [
       "array([0.33333333, 0.33333333, 0.33333333, 0.33333333, 0.33333333])"
      ]
     },
     "execution_count": 18,
     "metadata": {},
     "output_type": "execute_result"
    }
   ],
   "source": [
    "a4/3"
   ]
  },
  {
   "cell_type": "markdown",
   "id": "431fb727",
   "metadata": {},
   "source": [
    "#### Booléen"
   ]
  },
  {
   "cell_type": "code",
   "execution_count": 23,
   "id": "59c95639",
   "metadata": {},
   "outputs": [
    {
     "data": {
      "text/plain": [
       "array([ True,  True,  True,  True,  True])"
      ]
     },
     "execution_count": 23,
     "metadata": {},
     "output_type": "execute_result"
    }
   ],
   "source": [
    "a2>12"
   ]
  },
  {
   "cell_type": "markdown",
   "id": "07404dde",
   "metadata": {},
   "source": [
    "Pour renvoyer les valeurs :"
   ]
  },
  {
   "cell_type": "code",
   "execution_count": 24,
   "id": "da9ffd94",
   "metadata": {},
   "outputs": [
    {
     "data": {
      "text/plain": [
       "array([20, 21, 23, 24, 25])"
      ]
     },
     "execution_count": 24,
     "metadata": {},
     "output_type": "execute_result"
    }
   ],
   "source": [
    "a2[a2>12]"
   ]
  },
  {
   "cell_type": "markdown",
   "id": "fb2ba8e2",
   "metadata": {},
   "source": [
    "## Access aux indexes "
   ]
  },
  {
   "cell_type": "markdown",
   "id": "52a3628d",
   "metadata": {},
   "source": [
    "#### longueur "
   ]
  },
  {
   "cell_type": "code",
   "execution_count": 28,
   "id": "6c310251",
   "metadata": {},
   "outputs": [
    {
     "data": {
      "text/plain": [
       "(5,)"
      ]
     },
     "execution_count": 28,
     "metadata": {},
     "output_type": "execute_result"
    }
   ],
   "source": [
    "np.shape(a2)"
   ]
  },
  {
   "cell_type": "markdown",
   "id": "92216e45",
   "metadata": {},
   "source": [
    "Pour changer la forme du vecteur,"
   ]
  },
  {
   "cell_type": "code",
   "execution_count": null,
   "id": "31b83613",
   "metadata": {},
   "outputs": [],
   "source": [
    "a2.shape = "
   ]
  },
  {
   "cell_type": "markdown",
   "id": "70730d02",
   "metadata": {},
   "source": [
    "#### Les indexes "
   ]
  },
  {
   "cell_type": "code",
   "execution_count": 34,
   "id": "b0847aef",
   "metadata": {},
   "outputs": [],
   "source": [
    "a2 = np.array([20,21,23,24,25,26,27,28])"
   ]
  },
  {
   "cell_type": "code",
   "execution_count": 35,
   "id": "e36a2230",
   "metadata": {},
   "outputs": [
    {
     "data": {
      "text/plain": [
       "array([20, 21, 23, 24, 25, 26, 27, 28])"
      ]
     },
     "execution_count": 35,
     "metadata": {},
     "output_type": "execute_result"
    }
   ],
   "source": [
    "a2[::]"
   ]
  },
  {
   "cell_type": "code",
   "execution_count": 36,
   "id": "463157d4",
   "metadata": {},
   "outputs": [
    {
     "data": {
      "text/plain": [
       "array([20, 21, 23, 24, 25, 26, 27, 28])"
      ]
     },
     "execution_count": 36,
     "metadata": {},
     "output_type": "execute_result"
    }
   ],
   "source": [
    "a2[0:]"
   ]
  },
  {
   "cell_type": "code",
   "execution_count": 37,
   "id": "89e8294d",
   "metadata": {},
   "outputs": [
    {
     "data": {
      "text/plain": [
       "array([20, 21, 23, 24, 25, 26])"
      ]
     },
     "execution_count": 37,
     "metadata": {},
     "output_type": "execute_result"
    }
   ],
   "source": [
    "a2[:-2]"
   ]
  },
  {
   "cell_type": "markdown",
   "id": "e1f521aa",
   "metadata": {},
   "source": [
    "a2[1:3]"
   ]
  },
  {
   "cell_type": "markdown",
   "id": "ac74f7dd",
   "metadata": {},
   "source": [
    "Parcourir tout le tableau d'un pas de 2"
   ]
  },
  {
   "cell_type": "code",
   "execution_count": 38,
   "id": "79a2e5c4",
   "metadata": {},
   "outputs": [
    {
     "data": {
      "text/plain": [
       "array([20, 23, 25, 27])"
      ]
     },
     "execution_count": 38,
     "metadata": {},
     "output_type": "execute_result"
    }
   ],
   "source": [
    "a2[::2]"
   ]
  },
  {
   "cell_type": "markdown",
   "id": "f3a3b701",
   "metadata": {},
   "source": [
    "## Plot "
   ]
  },
  {
   "cell_type": "code",
   "execution_count": 30,
   "id": "2ffa45da",
   "metadata": {},
   "outputs": [],
   "source": [
    "import matplotlib.pyplot as plt"
   ]
  },
  {
   "cell_type": "code",
   "execution_count": 31,
   "id": "6f85d712",
   "metadata": {},
   "outputs": [
    {
     "data": {
      "image/png": "[encoded data removed]",
      "text/plain": [
       "<Figure size 640x480 with 1 Axes>"
      ]
     },
     "metadata": {},
     "output_type": "display_data"
    }
   ],
   "source": [
    "plt.plot(a2, a2**2)\n",
    "plt.show()"
   ]
  },
  {
   "cell_type": "markdown",
   "id": "b2fb9af6",
   "metadata": {},
   "source": [
    "### Histogramme "
   ]
  },
  {
   "cell_type": "code",
   "execution_count": 32,
   "id": "063688a6",
   "metadata": {},
   "outputs": [
    {
     "data": {
      "text/plain": [
       "(array([1., 0., 1., 0., 0., 0., 1., 0., 1., 1.]),\n",
       " array([20. , 20.5, 21. , 21.5, 22. , 22.5, 23. , 23.5, 24. , 24.5, 25. ]),\n",
       " <BarContainer object of 10 artists>)"
      ]
     },
     "execution_count": 32,
     "metadata": {},
     "output_type": "execute_result"
    },
    {
     "data": {
      "image/png": "[encoded data removed]",
      "text/plain": [
       "<Figure size 640x480 with 1 Axes>"
      ]
     },
     "metadata": {},
     "output_type": "display_data"
    }
   ],
   "source": [
    "plt.hist(a2)"
   ]
  },
  {
   "cell_type": "markdown",
   "id": "2de8a98f",
   "metadata": {},
   "source": [
    "### Tableau de chaines "
   ]
  },
  {
   "cell_type": "code",
   "execution_count": 42,
   "id": "bba080be",
   "metadata": {},
   "outputs": [],
   "source": [
    "tNom = np.array(['Bachir','Jean','Luke','Said', 'Baptiste','Julien']) "
   ]
  },
  {
   "cell_type": "code",
   "execution_count": 43,
   "id": "7405f8b8",
   "metadata": {},
   "outputs": [
    {
     "data": {
      "text/plain": [
       "array(['Bachir', 'Jean', 'Luke', 'Said', 'Baptiste', 'Julien'],\n",
       "      dtype='<U8')"
      ]
     },
     "execution_count": 43,
     "metadata": {},
     "output_type": "execute_result"
    }
   ],
   "source": [
    "tNom"
   ]
  },
  {
   "cell_type": "code",
   "execution_count": 44,
   "id": "0869b5d1",
   "metadata": {},
   "outputs": [
    {
     "data": {
      "text/plain": [
       "'Jean'"
      ]
     },
     "execution_count": 44,
     "metadata": {},
     "output_type": "execute_result"
    }
   ],
   "source": [
    "tNom[1]"
   ]
  },
  {
   "cell_type": "markdown",
   "id": "dd813ac5",
   "metadata": {},
   "source": [
    "la fonction `vectorize()` parcoure le tabelau à la recherche d'un élément qui vaut \"B\", dans notre cas elle va renvoyée False, car y a aucun élément qui vaut \"B\","
   ]
  },
  {
   "cell_type": "code",
   "execution_count": 45,
   "id": "daaa2892",
   "metadata": {},
   "outputs": [],
   "source": [
    "element_b = np.vectorize(tNom)=='B'"
   ]
  },
  {
   "cell_type": "code",
   "execution_count": 46,
   "id": "5261a9b7",
   "metadata": {},
   "outputs": [
    {
     "data": {
      "text/plain": [
       "False"
      ]
     },
     "execution_count": 46,
     "metadata": {},
     "output_type": "execute_result"
    }
   ],
   "source": [
    "element_b"
   ]
  },
  {
   "cell_type": "markdown",
   "id": "72d89541",
   "metadata": {},
   "source": [
    "Par contre on pourra utiliser une fonction `lambda` pour avoir seulement la première lettre de chaque élément du tableau,"
   ]
  },
  {
   "cell_type": "code",
   "execution_count": 47,
   "id": "49e68102",
   "metadata": {},
   "outputs": [],
   "source": [
    "premiere_lettre_b = np.vectorize(lambda s: s[0] )(tNom)=='B'"
   ]
  },
  {
   "cell_type": "code",
   "execution_count": 48,
   "id": "45600dc9",
   "metadata": {},
   "outputs": [
    {
     "data": {
      "text/plain": [
       "array([ True, False, False, False,  True, False])"
      ]
     },
     "execution_count": 48,
     "metadata": {},
     "output_type": "execute_result"
    }
   ],
   "source": [
    "premiere_lettre_b"
   ]
  },
  {
   "cell_type": "code",
   "execution_count": 49,
   "id": "2bd148eb",
   "metadata": {},
   "outputs": [
    {
     "data": {
      "text/plain": [
       "array(['Bachir', 'Baptiste'], dtype='<U8')"
      ]
     },
     "execution_count": 49,
     "metadata": {},
     "output_type": "execute_result"
    }
   ],
   "source": [
    "tNom[premiere_lettre_b]"
   ]
  },
  {
   "cell_type": "markdown",
   "id": "e587716e",
   "metadata": {},
   "source": [
    "# Array multi-dimensionnel \n",
    "Pour créer un tableau à deux dimensions on utilise deux crochets np.array([[],[]...]),"
   ]
  },
  {
   "cell_type": "code",
   "execution_count": 51,
   "id": "b9332de9",
   "metadata": {},
   "outputs": [],
   "source": [
    "a1 = np.array([[1,2,3],[4,5,6],[7,8,9]])"
   ]
  },
  {
   "cell_type": "code",
   "execution_count": 52,
   "id": "d13c30e1",
   "metadata": {},
   "outputs": [
    {
     "data": {
      "text/plain": [
       "array([[1, 2, 3],\n",
       "       [4, 5, 6],\n",
       "       [7, 8, 9]])"
      ]
     },
     "execution_count": 52,
     "metadata": {},
     "output_type": "execute_result"
    }
   ],
   "source": [
    "a1"
   ]
  },
  {
   "cell_type": "markdown",
   "id": "4c700bba",
   "metadata": {},
   "source": [
    "On peut utiliser toutes les opérations de bases sur ce nouveau tableau,"
   ]
  },
  {
   "cell_type": "code",
   "execution_count": 53,
   "id": "2255d962",
   "metadata": {},
   "outputs": [
    {
     "data": {
      "text/plain": [
       "array([[ 1,  4,  9],\n",
       "       [16, 25, 36],\n",
       "       [49, 64, 81]], dtype=int32)"
      ]
     },
     "execution_count": 53,
     "metadata": {},
     "output_type": "execute_result"
    }
   ],
   "source": [
    "a1**2"
   ]
  },
  {
   "cell_type": "code",
   "execution_count": 54,
   "id": "8ebf16d5",
   "metadata": {},
   "outputs": [
    {
     "data": {
      "text/plain": [
       "array([[2.        , 1.        , 0.66666667],\n",
       "       [0.5       , 0.4       , 0.33333333],\n",
       "       [0.28571429, 0.25      , 0.22222222]])"
      ]
     },
     "execution_count": 54,
     "metadata": {},
     "output_type": "execute_result"
    }
   ],
   "source": [
    "2/a1"
   ]
  },
  {
   "cell_type": "markdown",
   "id": "5af49196",
   "metadata": {},
   "source": [
    "Pour transformer le tableau à deux dimensions (lignes et colonnes) on seulment vecteur ligne on utilise la fonction `ravel()`"
   ]
  },
  {
   "cell_type": "code",
   "execution_count": 55,
   "id": "b202d990",
   "metadata": {},
   "outputs": [
    {
     "data": {
      "text/plain": [
       "array([1, 2, 3, 4, 5, 6, 7, 8, 9])"
      ]
     },
     "execution_count": 55,
     "metadata": {},
     "output_type": "execute_result"
    }
   ],
   "source": [
    "a1.ravel()"
   ]
  },
  {
   "cell_type": "markdown",
   "id": "5f29ae36",
   "metadata": {},
   "source": [
    "Utilisation des booléens,"
   ]
  },
  {
   "cell_type": "code",
   "execution_count": 56,
   "id": "43a7f06e",
   "metadata": {},
   "outputs": [
    {
     "data": {
      "text/plain": [
       "array([[False, False, False],\n",
       "       [False, False,  True],\n",
       "       [ True,  True,  True]])"
      ]
     },
     "execution_count": 56,
     "metadata": {},
     "output_type": "execute_result"
    }
   ],
   "source": [
    "a1>5"
   ]
  },
  {
   "cell_type": "code",
   "execution_count": 57,
   "id": "a32e2641",
   "metadata": {},
   "outputs": [
    {
     "data": {
      "text/plain": [
       "array([6, 7, 8, 9])"
      ]
     },
     "execution_count": 57,
     "metadata": {},
     "output_type": "execute_result"
    }
   ],
   "source": [
    "a1[a1>5]"
   ]
  },
  {
   "cell_type": "markdown",
   "id": "aad60507",
   "metadata": {},
   "source": [
    "On peut réutiliser les fonctions de bases de générations sur un tableau multi-dimensionnel, "
   ]
  },
  {
   "cell_type": "code",
   "execution_count": 58,
   "id": "7beb293a",
   "metadata": {},
   "outputs": [],
   "source": [
    "a2 = np.random.randn(3,3)"
   ]
  },
  {
   "cell_type": "code",
   "execution_count": 61,
   "id": "b7a5994e",
   "metadata": {},
   "outputs": [],
   "source": [
    "a3 = np.ones((3,3))"
   ]
  },
  {
   "cell_type": "code",
   "execution_count": 63,
   "id": "e783213a",
   "metadata": {},
   "outputs": [],
   "source": [
    "a4 = np.zeros((4,3))"
   ]
  },
  {
   "cell_type": "code",
   "execution_count": 64,
   "id": "c8a2630f",
   "metadata": {},
   "outputs": [
    {
     "data": {
      "text/plain": [
       "array([[0., 0., 0.],\n",
       "       [0., 0., 0.],\n",
       "       [0., 0., 0.],\n",
       "       [0., 0., 0.]])"
      ]
     },
     "execution_count": 64,
     "metadata": {},
     "output_type": "execute_result"
    }
   ],
   "source": []
  },
  {
   "cell_type": "code",
   "execution_count": null,
   "id": "8b4a3087",
   "metadata": {},
   "outputs": [],
   "source": []
  }
 ],
 "metadata": {
  "kernelspec": {
   "display_name": "Python 3 (ipykernel)",
   "language": "python",
   "name": "python3"
  },
  "language_info": {
   "codemirror_mode": {
    "name": "ipython",
    "version": 3
   },
   "file_extension": ".py",
   "mimetype": "text/x-python",
   "name": "python",
   "nbconvert_exporter": "python",
   "pygments_lexer": "ipython3",
   "version": "3.7.16"
  }
 },
 "nbformat": 4,
 "nbformat_minor": 5
}
